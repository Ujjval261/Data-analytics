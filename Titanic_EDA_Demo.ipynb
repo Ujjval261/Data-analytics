{
 "cells": [
  {
   "cell_type": "markdown",
   "id": "f19cef72",
   "metadata": {},
   "source": [
    "# Exploratory Data Analysis on Titanic Dataset"
   ]
  },
  {
   "cell_type": "markdown",
   "id": "092b9ffd",
   "metadata": {},
   "source": [
    "In this notebook, we will perform Exploratory Data Analysis (EDA) on the Titanic dataset using Python libraries like Pandas, Matplotlib, and Seaborn."
   ]
  },
  {
   "cell_type": "code",
   "execution_count": null,
   "id": "d9fedcbe",
   "metadata": {},
   "outputs": [],
   "source": [
    "import pandas as pd\n",
    "import seaborn as sns\n",
    "import matplotlib.pyplot as plt\n",
    "import numpy as np\n",
    "\n",
    "sns.set(style=\"darkgrid\")\n"
   ]
  },
  {
   "cell_type": "code",
   "execution_count": null,
   "id": "f10b8407",
   "metadata": {},
   "outputs": [],
   "source": [
    "# Load Titanic dataset from seaborn\n",
    "df = sns.load_dataset('titanic')\n",
    "df.head()\n"
   ]
  },
  {
   "cell_type": "code",
   "execution_count": null,
   "id": "d1624157",
   "metadata": {},
   "outputs": [],
   "source": [
    "# Dataset information\n",
    "df.info()\n"
   ]
  },
  {
   "cell_type": "code",
   "execution_count": null,
   "id": "86121c76",
   "metadata": {},
   "outputs": [],
   "source": [
    "# Check for missing values\n",
    "df.isnull().sum()\n"
   ]
  },
  {
   "cell_type": "code",
   "execution_count": null,
   "id": "acef3341",
   "metadata": {},
   "outputs": [],
   "source": [
    "# Drop columns with too many missing values\n",
    "df_cleaned = df.drop(columns=['deck'])\n",
    "# Fill age missing values with median\n",
    "df_cleaned['age'].fillna(df['age'].median(), inplace=True)\n",
    "# Drop remaining rows with missing values\n",
    "df_cleaned.dropna(inplace=True)\n",
    "df_cleaned.info()\n"
   ]
  },
  {
   "cell_type": "markdown",
   "id": "28358234",
   "metadata": {},
   "source": [
    "## Data Visualizations"
   ]
  },
  {
   "cell_type": "code",
   "execution_count": null,
   "id": "bec72b83",
   "metadata": {},
   "outputs": [],
   "source": [
    "# Survival count\n",
    "sns.countplot(x='survived', data=df_cleaned)\n",
    "plt.title('Survival Count')\n",
    "plt.show()\n"
   ]
  },
  {
   "cell_type": "code",
   "execution_count": null,
   "id": "c41a8038",
   "metadata": {},
   "outputs": [],
   "source": [
    "# Survival by gender\n",
    "sns.countplot(x='sex', hue='survived', data=df_cleaned)\n",
    "plt.title('Survival by Gender')\n",
    "plt.show()\n"
   ]
  },
  {
   "cell_type": "code",
   "execution_count": null,
   "id": "c57592af",
   "metadata": {},
   "outputs": [],
   "source": [
    "# Age distribution\n",
    "plt.hist(df_cleaned['age'], bins=20, edgecolor='black')\n",
    "plt.title('Age Distribution of Passengers')\n",
    "plt.xlabel('Age')\n",
    "plt.ylabel('Count')\n",
    "plt.show()\n"
   ]
  },
  {
   "cell_type": "markdown",
   "id": "84f4afa0",
   "metadata": {},
   "source": [
    "### Conclusion:\n",
    "- Women had higher survival rates.\n",
    "- Most passengers were in the 20–40 age range.\n",
    "- First-class passengers had better chances of survival."
   ]
  }
 ],
 "metadata": {},
 "nbformat": 4,
 "nbformat_minor": 5
}
